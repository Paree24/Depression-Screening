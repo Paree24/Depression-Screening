{
 "cells": [
  {
   "cell_type": "code",
   "execution_count": 1,
   "metadata": {},
   "outputs": [],
   "source": [
    "import pandas as pd"
   ]
  },
  {
   "cell_type": "code",
   "execution_count": 2,
   "metadata": {},
   "outputs": [],
   "source": [
    "data=pd.read_csv('2018.csv')\n",
    "if data.columns[0]=='Unnamed: 0':\n",
    "    data=data.iloc[:,1:]"
   ]
  },
  {
   "cell_type": "code",
   "execution_count": 3,
   "metadata": {},
   "outputs": [
    {
     "data": {
      "text/html": [
       "<div>\n",
       "<style scoped>\n",
       "    .dataframe tbody tr th:only-of-type {\n",
       "        vertical-align: middle;\n",
       "    }\n",
       "\n",
       "    .dataframe tbody tr th {\n",
       "        vertical-align: top;\n",
       "    }\n",
       "\n",
       "    .dataframe thead th {\n",
       "        text-align: right;\n",
       "    }\n",
       "</style>\n",
       "<table border=\"1\" class=\"dataframe\">\n",
       "  <thead>\n",
       "    <tr style=\"text-align: right;\">\n",
       "      <th></th>\n",
       "      <th>ID</th>\n",
       "      <th>Self-employed</th>\n",
       "      <th>Number_of_employees_in_org</th>\n",
       "      <th>tech_company</th>\n",
       "      <th>primary_role_in_tech</th>\n",
       "      <th>mental_health_allowance</th>\n",
       "      <th>options_for_mental_health_care</th>\n",
       "      <th>formal_discussion_about_mental_health</th>\n",
       "      <th>Resources_to_seek_help</th>\n",
       "      <th>anonymity_protection</th>\n",
       "      <th>...</th>\n",
       "      <th>Unnamed: 114</th>\n",
       "      <th>Unnamed: 115</th>\n",
       "      <th>Unnamed: 116</th>\n",
       "      <th>Unnamed: 117</th>\n",
       "      <th>Unnamed: 118</th>\n",
       "      <th>Unnamed: 119</th>\n",
       "      <th>Unnamed: 120</th>\n",
       "      <th>Unnamed: 121</th>\n",
       "      <th>Unnamed: 122</th>\n",
       "      <th>Unnamed: 123</th>\n",
       "    </tr>\n",
       "  </thead>\n",
       "  <tbody>\n",
       "    <tr>\n",
       "      <th>0</th>\n",
       "      <td>e44a0a34f2465940beda2a1537e9b99e</td>\n",
       "      <td>0</td>\n",
       "      <td>More than 1000</td>\n",
       "      <td>1.0</td>\n",
       "      <td>0.0</td>\n",
       "      <td>Yes</td>\n",
       "      <td>Yes</td>\n",
       "      <td>Yes</td>\n",
       "      <td>Yes</td>\n",
       "      <td>Yes</td>\n",
       "      <td>...</td>\n",
       "      <td>NaN</td>\n",
       "      <td>NaN</td>\n",
       "      <td>NaN</td>\n",
       "      <td>NaN</td>\n",
       "      <td>NaN</td>\n",
       "      <td>NaN</td>\n",
       "      <td>NaN</td>\n",
       "      <td>NaN</td>\n",
       "      <td>NaN</td>\n",
       "      <td>NaN</td>\n",
       "    </tr>\n",
       "    <tr>\n",
       "      <th>1</th>\n",
       "      <td>0d698e3beca20fb75f19b9d528e36d73</td>\n",
       "      <td>0</td>\n",
       "      <td>More than 1000</td>\n",
       "      <td>1.0</td>\n",
       "      <td>1.0</td>\n",
       "      <td>Yes</td>\n",
       "      <td>Yes</td>\n",
       "      <td>No</td>\n",
       "      <td>I don't know</td>\n",
       "      <td>I don't know</td>\n",
       "      <td>...</td>\n",
       "      <td>NaN</td>\n",
       "      <td>NaN</td>\n",
       "      <td>NaN</td>\n",
       "      <td>NaN</td>\n",
       "      <td>NaN</td>\n",
       "      <td>NaN</td>\n",
       "      <td>NaN</td>\n",
       "      <td>NaN</td>\n",
       "      <td>NaN</td>\n",
       "      <td>NaN</td>\n",
       "    </tr>\n",
       "    <tr>\n",
       "      <th>2</th>\n",
       "      <td>61a40c9071eb36fa9caa254d31500c41</td>\n",
       "      <td>0</td>\n",
       "      <td>6-25</td>\n",
       "      <td>0.0</td>\n",
       "      <td>1.0</td>\n",
       "      <td>Yes</td>\n",
       "      <td>Yes</td>\n",
       "      <td>No</td>\n",
       "      <td>No</td>\n",
       "      <td>I don't know</td>\n",
       "      <td>...</td>\n",
       "      <td>NaN</td>\n",
       "      <td>NaN</td>\n",
       "      <td>NaN</td>\n",
       "      <td>NaN</td>\n",
       "      <td>NaN</td>\n",
       "      <td>NaN</td>\n",
       "      <td>NaN</td>\n",
       "      <td>NaN</td>\n",
       "      <td>NaN</td>\n",
       "      <td>NaN</td>\n",
       "    </tr>\n",
       "    <tr>\n",
       "      <th>3</th>\n",
       "      <td>f8624340bead7deb08abb766704ddf6b</td>\n",
       "      <td>0</td>\n",
       "      <td>6-25</td>\n",
       "      <td>1.0</td>\n",
       "      <td>1.0</td>\n",
       "      <td>No</td>\n",
       "      <td>No</td>\n",
       "      <td>No</td>\n",
       "      <td>No</td>\n",
       "      <td>I don't know</td>\n",
       "      <td>...</td>\n",
       "      <td>NaN</td>\n",
       "      <td>NaN</td>\n",
       "      <td>NaN</td>\n",
       "      <td>NaN</td>\n",
       "      <td>NaN</td>\n",
       "      <td>NaN</td>\n",
       "      <td>NaN</td>\n",
       "      <td>NaN</td>\n",
       "      <td>NaN</td>\n",
       "      <td>NaN</td>\n",
       "    </tr>\n",
       "    <tr>\n",
       "      <th>4</th>\n",
       "      <td>31d3ae93b68d79e504a0a643601b6b1e</td>\n",
       "      <td>0</td>\n",
       "      <td>26-100</td>\n",
       "      <td>1.0</td>\n",
       "      <td>1.0</td>\n",
       "      <td>Yes</td>\n",
       "      <td>Yes</td>\n",
       "      <td>Yes</td>\n",
       "      <td>Yes</td>\n",
       "      <td>Yes</td>\n",
       "      <td>...</td>\n",
       "      <td>NaN</td>\n",
       "      <td>NaN</td>\n",
       "      <td>NaN</td>\n",
       "      <td>NaN</td>\n",
       "      <td>NaN</td>\n",
       "      <td>NaN</td>\n",
       "      <td>NaN</td>\n",
       "      <td>NaN</td>\n",
       "      <td>NaN</td>\n",
       "      <td>NaN</td>\n",
       "    </tr>\n",
       "  </tbody>\n",
       "</table>\n",
       "<p>5 rows × 124 columns</p>\n",
       "</div>"
      ],
      "text/plain": [
       "                                 ID  Self-employed Number_of_employees_in_org  \\\n",
       "0  e44a0a34f2465940beda2a1537e9b99e              0             More than 1000   \n",
       "1  0d698e3beca20fb75f19b9d528e36d73              0             More than 1000   \n",
       "2  61a40c9071eb36fa9caa254d31500c41              0                       6-25   \n",
       "3  f8624340bead7deb08abb766704ddf6b              0                       6-25   \n",
       "4  31d3ae93b68d79e504a0a643601b6b1e              0                     26-100   \n",
       "\n",
       "   tech_company  primary_role_in_tech mental_health_allowance  \\\n",
       "0           1.0                   0.0                     Yes   \n",
       "1           1.0                   1.0                     Yes   \n",
       "2           0.0                   1.0                     Yes   \n",
       "3           1.0                   1.0                      No   \n",
       "4           1.0                   1.0                     Yes   \n",
       "\n",
       "  options_for_mental_health_care formal_discussion_about_mental_health  \\\n",
       "0                            Yes                                   Yes   \n",
       "1                            Yes                                    No   \n",
       "2                            Yes                                    No   \n",
       "3                             No                                    No   \n",
       "4                            Yes                                   Yes   \n",
       "\n",
       "  Resources_to_seek_help anonymity_protection  ... Unnamed: 114 Unnamed: 115  \\\n",
       "0                    Yes                  Yes  ...          NaN          NaN   \n",
       "1           I don't know         I don't know  ...          NaN          NaN   \n",
       "2                     No         I don't know  ...          NaN          NaN   \n",
       "3                     No         I don't know  ...          NaN          NaN   \n",
       "4                    Yes                  Yes  ...          NaN          NaN   \n",
       "\n",
       "  Unnamed: 116  Unnamed: 117 Unnamed: 118 Unnamed: 119 Unnamed: 120  \\\n",
       "0          NaN           NaN          NaN          NaN          NaN   \n",
       "1          NaN           NaN          NaN          NaN          NaN   \n",
       "2          NaN           NaN          NaN          NaN          NaN   \n",
       "3          NaN           NaN          NaN          NaN          NaN   \n",
       "4          NaN           NaN          NaN          NaN          NaN   \n",
       "\n",
       "  Unnamed: 121 Unnamed: 122 Unnamed: 123  \n",
       "0          NaN          NaN          NaN  \n",
       "1          NaN          NaN          NaN  \n",
       "2          NaN          NaN          NaN  \n",
       "3          NaN          NaN          NaN  \n",
       "4          NaN          NaN          NaN  \n",
       "\n",
       "[5 rows x 124 columns]"
      ]
     },
     "execution_count": 3,
     "metadata": {},
     "output_type": "execute_result"
    }
   ],
   "source": [
    "data.head()"
   ]
  },
  {
   "cell_type": "code",
   "execution_count": 4,
   "metadata": {},
   "outputs": [
    {
     "name": "stdout",
     "output_type": "stream",
     "text": [
      "Summary of Dataset\n",
      "Size:  51708\n",
      "Shape:  (417, 124)\n",
      "Dimensions:  2\n"
     ]
    }
   ],
   "source": [
    "print(\"Summary of Dataset\")\n",
    "print(\"Size: \",data.size)\n",
    "print(\"Shape: \",data.shape)\n",
    "print(\"Dimensions: \",data.ndim)"
   ]
  },
  {
   "cell_type": "code",
   "execution_count": 5,
   "metadata": {},
   "outputs": [
    {
     "data": {
      "text/plain": [
       "array(['Possibly', 'Yes', 'No', \"Don't Know\", '0', '2', '3', '4'],\n",
       "      dtype=object)"
      ]
     },
     "execution_count": 5,
     "metadata": {},
     "output_type": "execute_result"
    }
   ],
   "source": [
    "data['Depression'].unique()"
   ]
  },
  {
   "cell_type": "code",
   "execution_count": 5,
   "metadata": {},
   "outputs": [
    {
     "name": "stdout",
     "output_type": "stream",
     "text": [
      "ID                                                   0.000000\n",
      "Self-employed                                        0.000000\n",
      "Number_of_employees_in_org                          13.429257\n",
      "tech_company                                        13.429257\n",
      "primary_role_in_tech                                13.429257\n",
      "mental_health_allowance                             13.429257\n",
      "options_for_mental_health_care                      22.302158\n",
      "formal_discussion_about_mental_health               13.429257\n",
      "Resources_to_seek_help                              13.429257\n",
      "anonymity_protection                                13.429257\n",
      "medical_leave_for_depression                        13.429257\n",
      "comfortable_talking_to_coworkers                    13.429257\n",
      "comfortable_talking_to_direct_supervisor            13.429257\n",
      "discussion_with_employer                            13.429257\n",
      "conv_description                                    76.978417\n",
      "comfort_coworker_mental_health                      13.429257\n",
      "discussion_with_coworker                            13.669065\n",
      "conv_coworker                                       74.100719\n",
      "coworkers_mental_health                             14.148681\n",
      "coworkers_conv                                      69.784173\n",
      "emphasis_on_physical_health                         13.908873\n",
      "emphasis_on_mental_health                           13.429257\n",
      "medical_coverage_mental_health                      85.131894\n",
      "know_local_resource                                 86.570743\n",
      "contacts_therapy                                    86.570743\n",
      "affect_of_mental_health                             94.964029\n",
      "reveal_mental_illness                               86.570743\n",
      "impact_of_relationsip                               86.570743\n",
      "affects_productivity                                86.570743\n",
      "percentage_of_effect_on_productivity                90.167866\n",
      "                                                      ...    \n",
      "did_discuss                                         13.189448\n",
      "Describe_discussion_prev_coworker                   76.738609\n",
      "other_coworker_discuss                              14.148681\n",
      "previous_emp_physical_health                        14.388489\n",
      "previous_emp_mental_health                          12.949640\n",
      "diagnosed_with_disorder                             53.717026\n",
      "prev_mental_disorder                                 1.678657\n",
      "Sought_Treatment                                     0.000000\n",
      "family_history_of_mental_health                      0.000000\n",
      "if_it_interferes                                     0.000000\n",
      "interferes_with_work                                 0.000000\n",
      "does_other_people_revealing_make_you_reveal_less    23.021583\n",
      "are_you_willing_to_share_with_friends                0.239808\n",
      "interview_reveal                                     0.000000\n",
      "employer_in_interview                                0.000000\n",
      "openly_identified                                    0.000000\n",
      "support_from_coworker                                1.199041\n",
      "badly_handled                                        0.239808\n",
      "describe_bad_handling                               77.458034\n",
      "well_handled                                         0.719424\n",
      "tech_industry_support_mental_health                  1.678657\n",
      "gender                                               0.719424\n",
      "Living_Country                                       0.000000\n",
      "Race                                                27.338129\n",
      "Working_country                                      1.918465\n",
      "Start Date (UTC)                                     0.479616\n",
      "Submit Date (UTC)                                    0.000000\n",
      "Depression                                           0.000000\n",
      "Unnamed: 122                                        99.280576\n",
      "Unnamed: 123                                        99.760192\n",
      "Length: 72, dtype: float64\n"
     ]
    }
   ],
   "source": [
    "data.dropna(axis=1,\n",
    "            inplace=True,\n",
    "            how='all')\n",
    "percentage_missing=data.isnull().sum()*100/data.shape[0]\n",
    "print(percentage_missing)"
   ]
  },
  {
   "cell_type": "code",
   "execution_count": 6,
   "metadata": {},
   "outputs": [
    {
     "data": {
      "text/plain": [
       "ID                                                   object\n",
       "Self-employed                                         int64\n",
       "Number_of_employees_in_org                           object\n",
       "tech_company                                        float64\n",
       "primary_role_in_tech                                float64\n",
       "mental_health_allowance                              object\n",
       "options_for_mental_health_care                       object\n",
       "formal_discussion_about_mental_health                object\n",
       "Resources_to_seek_help                               object\n",
       "anonymity_protection                                 object\n",
       "medical_leave_for_depression                         object\n",
       "comfortable_talking_to_coworkers                     object\n",
       "comfortable_talking_to_direct_supervisor             object\n",
       "discussion_with_employer                            float64\n",
       "conv_description                                     object\n",
       "comfort_coworker_mental_health                       object\n",
       "discussion_with_coworker                             object\n",
       "conv_coworker                                        object\n",
       "coworkers_mental_health                              object\n",
       "coworkers_conv                                       object\n",
       "emphasis_on_physical_health                          object\n",
       "emphasis_on_mental_health                           float64\n",
       "medical_coverage_mental_health                      float64\n",
       "know_local_resource                                  object\n",
       "contacts_therapy                                     object\n",
       "affect_of_mental_health                              object\n",
       "reveal_mental_illness                                object\n",
       "impact_of_relationsip                                object\n",
       "affects_productivity                                 object\n",
       "percentage_of_effect_on_productivity                 object\n",
       "                                                     ...   \n",
       "did_discuss                                          object\n",
       "Describe_discussion_prev_coworker                    object\n",
       "other_coworker_discuss                               object\n",
       "previous_emp_physical_health                        float64\n",
       "previous_emp_mental_health                          float64\n",
       "diagnosed_with_disorder                              object\n",
       "prev_mental_disorder                                 object\n",
       "Sought_Treatment                                     object\n",
       "family_history_of_mental_health                      object\n",
       "if_it_interferes                                     object\n",
       "interferes_with_work                                 object\n",
       "does_other_people_revealing_make_you_reveal_less     object\n",
       "are_you_willing_to_share_with_friends                object\n",
       "interview_reveal                                     object\n",
       "employer_in_interview                                object\n",
       "openly_identified                                    object\n",
       "support_from_coworker                               float64\n",
       "badly_handled                                        object\n",
       "describe_bad_handling                                object\n",
       "well_handled                                         object\n",
       "tech_industry_support_mental_health                 float64\n",
       "gender                                               object\n",
       "Living_Country                                       object\n",
       "Race                                                 object\n",
       "Working_country                                      object\n",
       "Start Date (UTC)                                     object\n",
       "Submit Date (UTC)                                    object\n",
       "Depression                                           object\n",
       "Unnamed: 122                                         object\n",
       "Unnamed: 123                                         object\n",
       "Length: 72, dtype: object"
      ]
     },
     "execution_count": 6,
     "metadata": {},
     "output_type": "execute_result"
    }
   ],
   "source": [
    "data.dtypes"
   ]
  },
  {
   "cell_type": "code",
   "execution_count": 7,
   "metadata": {},
   "outputs": [
    {
     "name": "stdout",
     "output_type": "stream",
     "text": [
      "Columns with more than 50% missing values are:\n",
      "Column Number  Column Name\n",
      "14             conv_description\n",
      "17             conv_coworker\n",
      "19             coworkers_conv\n",
      "22             medical_coverage_mental_health\n",
      "23             know_local_resource\n",
      "24             contacts_therapy\n",
      "25             affect_of_mental_health\n",
      "26             reveal_mental_illness\n",
      "27             impact_of_relationsip\n",
      "28             affects_productivity\n",
      "29             percentage_of_effect_on_productivity\n",
      "40             prev_emp_conv\n",
      "43             Describe_discussion_prev_coworker\n",
      "47             diagnosed_with_disorder\n",
      "60             describe_bad_handling\n",
      "70             Unnamed: 122\n",
      "71             Unnamed: 123\n"
     ]
    }
   ],
   "source": [
    "cols_to_drop=[]\n",
    "print(\"Columns with more than 50% missing values are:\")\n",
    "print(\"Column Number  Column Name\")\n",
    "for i in range(len(percentage_missing)):\n",
    "    if percentage_missing[i] > 50.00:\n",
    "        cols_to_drop.append(data.columns[i])\n",
    "        print(f\"{i}             {data.columns[i]}\")"
   ]
  },
  {
   "cell_type": "code",
   "execution_count": 8,
   "metadata": {},
   "outputs": [],
   "source": [
    "data.drop(cols_to_drop,axis=1,inplace=True)"
   ]
  },
  {
   "cell_type": "code",
   "execution_count": 9,
   "metadata": {},
   "outputs": [
    {
     "data": {
      "text/plain": [
       "ID                                                   object\n",
       "Self-employed                                         int64\n",
       "Number_of_employees_in_org                           object\n",
       "tech_company                                        float64\n",
       "primary_role_in_tech                                float64\n",
       "mental_health_allowance                              object\n",
       "options_for_mental_health_care                       object\n",
       "formal_discussion_about_mental_health                object\n",
       "Resources_to_seek_help                               object\n",
       "anonymity_protection                                 object\n",
       "medical_leave_for_depression                         object\n",
       "comfortable_talking_to_coworkers                     object\n",
       "comfortable_talking_to_direct_supervisor             object\n",
       "discussion_with_employer                            float64\n",
       "comfort_coworker_mental_health                       object\n",
       "discussion_with_coworker                             object\n",
       "coworkers_mental_health                              object\n",
       "emphasis_on_physical_health                          object\n",
       "emphasis_on_mental_health                           float64\n",
       "previous_employers                                  float64\n",
       "previous_tech                                       float64\n",
       "previous_help                                        object\n",
       "aware_of_importance                                  object\n",
       "previous_employer_discuss                            object\n",
       "previous_employer_resource                           object\n",
       "anonymity_previous                                   object\n",
       "comfortable_mental_health_previous                   object\n",
       "comfortable_direct_sup_previous                      object\n",
       "discuss_mental_health_previous_emp                   object\n",
       "discuss_mental_health_previous_coworkers_comfort     object\n",
       "did_discuss                                          object\n",
       "other_coworker_discuss                               object\n",
       "previous_emp_physical_health                        float64\n",
       "previous_emp_mental_health                          float64\n",
       "prev_mental_disorder                                 object\n",
       "Sought_Treatment                                     object\n",
       "family_history_of_mental_health                      object\n",
       "if_it_interferes                                     object\n",
       "interferes_with_work                                 object\n",
       "does_other_people_revealing_make_you_reveal_less     object\n",
       "are_you_willing_to_share_with_friends                object\n",
       "interview_reveal                                     object\n",
       "employer_in_interview                                object\n",
       "openly_identified                                    object\n",
       "support_from_coworker                               float64\n",
       "badly_handled                                        object\n",
       "well_handled                                         object\n",
       "tech_industry_support_mental_health                 float64\n",
       "gender                                               object\n",
       "Living_Country                                       object\n",
       "Race                                                 object\n",
       "Working_country                                      object\n",
       "Start Date (UTC)                                     object\n",
       "Submit Date (UTC)                                    object\n",
       "Depression                                           object\n",
       "dtype: object"
      ]
     },
     "execution_count": 9,
     "metadata": {},
     "output_type": "execute_result"
    }
   ],
   "source": [
    "data.dtypes"
   ]
  },
  {
   "cell_type": "code",
   "execution_count": 10,
   "metadata": {},
   "outputs": [
    {
     "name": "stdout",
     "output_type": "stream",
     "text": [
      "Summary of Dataset\n",
      "Size:  22935\n",
      "Shape:  (417, 55)\n",
      "Dimensions:  2\n"
     ]
    }
   ],
   "source": [
    "print(\"Summary of Dataset\")\n",
    "print(\"Size: \",data.size)\n",
    "print(\"Shape: \",data.shape)\n",
    "print(\"Dimensions: \",data.ndim)"
   ]
  },
  {
   "cell_type": "code",
   "execution_count": 11,
   "metadata": {},
   "outputs": [
    {
     "name": "stdout",
     "output_type": "stream",
     "text": [
      "ID                                                   0.000000\n",
      "Self-employed                                        0.000000\n",
      "Number_of_employees_in_org                          13.429257\n",
      "tech_company                                        13.429257\n",
      "primary_role_in_tech                                13.429257\n",
      "mental_health_allowance                             13.429257\n",
      "options_for_mental_health_care                      22.302158\n",
      "formal_discussion_about_mental_health               13.429257\n",
      "Resources_to_seek_help                              13.429257\n",
      "anonymity_protection                                13.429257\n",
      "medical_leave_for_depression                        13.429257\n",
      "comfortable_talking_to_coworkers                    13.429257\n",
      "comfortable_talking_to_direct_supervisor            13.429257\n",
      "discussion_with_employer                            13.429257\n",
      "comfort_coworker_mental_health                      13.429257\n",
      "discussion_with_coworker                            13.669065\n",
      "coworkers_mental_health                             14.148681\n",
      "emphasis_on_physical_health                         13.908873\n",
      "emphasis_on_mental_health                           13.429257\n",
      "previous_employers                                   1.438849\n",
      "previous_tech                                       12.949640\n",
      "previous_help                                       12.949640\n",
      "aware_of_importance                                 12.949640\n",
      "previous_employer_discuss                           12.949640\n",
      "previous_employer_resource                          12.949640\n",
      "anonymity_previous                                  12.949640\n",
      "comfortable_mental_health_previous                  12.949640\n",
      "comfortable_direct_sup_previous                     12.949640\n",
      "discuss_mental_health_previous_emp                  12.949640\n",
      "discuss_mental_health_previous_coworkers_comfort    14.148681\n",
      "did_discuss                                         13.189448\n",
      "other_coworker_discuss                              14.148681\n",
      "previous_emp_physical_health                        14.388489\n",
      "previous_emp_mental_health                          12.949640\n",
      "prev_mental_disorder                                 1.678657\n",
      "Sought_Treatment                                     0.000000\n",
      "family_history_of_mental_health                      0.000000\n",
      "if_it_interferes                                     0.000000\n",
      "interferes_with_work                                 0.000000\n",
      "does_other_people_revealing_make_you_reveal_less    23.021583\n",
      "are_you_willing_to_share_with_friends                0.239808\n",
      "interview_reveal                                     0.000000\n",
      "employer_in_interview                                0.000000\n",
      "openly_identified                                    0.000000\n",
      "support_from_coworker                                1.199041\n",
      "badly_handled                                        0.239808\n",
      "well_handled                                         0.719424\n",
      "tech_industry_support_mental_health                  1.678657\n",
      "gender                                               0.719424\n",
      "Living_Country                                       0.000000\n",
      "Race                                                27.338129\n",
      "Working_country                                      1.918465\n",
      "Start Date (UTC)                                     0.479616\n",
      "Submit Date (UTC)                                    0.000000\n",
      "Depression                                           0.000000\n",
      "dtype: float64\n"
     ]
    }
   ],
   "source": [
    "data.dropna(axis=1,inplace=True,how='all')\n",
    "percentage_missing=data.isnull().sum()*100/data.shape[0]\n",
    "print(percentage_missing)"
   ]
  },
  {
   "cell_type": "code",
   "execution_count": 12,
   "metadata": {},
   "outputs": [],
   "source": [
    "try:\n",
    "    data.drop(['ID','Start Date (UTC)','Submit Date (UTC)'],\n",
    "              axis=1,\n",
    "              inplace=True)\n",
    "except:\n",
    "    print(\"One or More Columns not found\")"
   ]
  },
  {
   "cell_type": "code",
   "execution_count": 13,
   "metadata": {},
   "outputs": [
    {
     "name": "stdout",
     "output_type": "stream",
     "text": [
      "Summary of Dataset\n",
      "Size:  21684\n",
      "Shape:  (417, 52)\n",
      "Dimensions:  2\n"
     ]
    }
   ],
   "source": [
    "print(\"Summary of Dataset\")\n",
    "print(\"Size: \",data.size)\n",
    "print(\"Shape: \",data.shape)\n",
    "print(\"Dimensions: \",data.ndim)"
   ]
  },
  {
   "cell_type": "code",
   "execution_count": 14,
   "metadata": {},
   "outputs": [
    {
     "name": "stdout",
     "output_type": "stream",
     "text": [
      "emphasis_on_physical_health 15\n",
      "emphasis_on_mental_health 11\n",
      "previous_emp_physical_health 11\n",
      "previous_emp_mental_health 11\n",
      "are_you_willing_to_share_with_friends 13\n",
      "support_from_coworker 11\n",
      "gender  57\n",
      "Living_Country 49\n",
      "Race 12\n",
      "Working_country 41\n"
     ]
    }
   ],
   "source": [
    "from collections import Counter\n",
    "from pprint import pprint\n",
    "value_counts=dict()\n",
    "for column in data.columns:\n",
    "    temp=data[column].dropna()\n",
    "    value_counts[column]=len(dict(Counter(temp)))\n",
    "for k,v in value_counts.items():\n",
    "    if v>10:\n",
    "        print(k,v)"
   ]
  },
  {
   "cell_type": "code",
   "execution_count": 15,
   "metadata": {
    "inputHidden": false,
    "outputHidden": false
   },
   "outputs": [
    {
     "name": "stdout",
     "output_type": "stream",
     "text": [
      "Summary of Dataset\n",
      "Size:  21684\n",
      "Shape:  (417, 52)\n",
      "Dimensions:  2\n"
     ]
    }
   ],
   "source": [
    "print(\"Summary of Dataset\")\n",
    "print(\"Size: \",data.size)\n",
    "print(\"Shape: \",data.shape)\n",
    "print(\"Dimensions: \",data.ndim)"
   ]
  },
  {
   "cell_type": "code",
   "execution_count": 16,
   "metadata": {},
   "outputs": [
    {
     "name": "stdout",
     "output_type": "stream",
     "text": [
      "Self-employed                                        0.000000\n",
      "Number_of_employees_in_org                          13.429257\n",
      "tech_company                                        13.429257\n",
      "primary_role_in_tech                                13.429257\n",
      "mental_health_allowance                             13.429257\n",
      "options_for_mental_health_care                      22.302158\n",
      "formal_discussion_about_mental_health               13.429257\n",
      "Resources_to_seek_help                              13.429257\n",
      "anonymity_protection                                13.429257\n",
      "medical_leave_for_depression                        13.429257\n",
      "comfortable_talking_to_coworkers                    13.429257\n",
      "comfortable_talking_to_direct_supervisor            13.429257\n",
      "discussion_with_employer                            13.429257\n",
      "comfort_coworker_mental_health                      13.429257\n",
      "discussion_with_coworker                            13.669065\n",
      "coworkers_mental_health                             14.148681\n",
      "emphasis_on_physical_health                         13.908873\n",
      "emphasis_on_mental_health                           13.429257\n",
      "previous_employers                                   1.438849\n",
      "previous_tech                                       12.949640\n",
      "previous_help                                       12.949640\n",
      "aware_of_importance                                 12.949640\n",
      "previous_employer_discuss                           12.949640\n",
      "previous_employer_resource                          12.949640\n",
      "anonymity_previous                                  12.949640\n",
      "comfortable_mental_health_previous                  12.949640\n",
      "comfortable_direct_sup_previous                     12.949640\n",
      "discuss_mental_health_previous_emp                  12.949640\n",
      "discuss_mental_health_previous_coworkers_comfort    14.148681\n",
      "did_discuss                                         13.189448\n",
      "other_coworker_discuss                              14.148681\n",
      "previous_emp_physical_health                        14.388489\n",
      "previous_emp_mental_health                          12.949640\n",
      "prev_mental_disorder                                 1.678657\n",
      "Sought_Treatment                                     0.000000\n",
      "family_history_of_mental_health                      0.000000\n",
      "if_it_interferes                                     0.000000\n",
      "interferes_with_work                                 0.000000\n",
      "does_other_people_revealing_make_you_reveal_less    23.021583\n",
      "are_you_willing_to_share_with_friends                0.239808\n",
      "interview_reveal                                     0.000000\n",
      "employer_in_interview                                0.000000\n",
      "openly_identified                                    0.000000\n",
      "support_from_coworker                                1.199041\n",
      "badly_handled                                        0.239808\n",
      "well_handled                                         0.719424\n",
      "tech_industry_support_mental_health                  1.678657\n",
      "gender                                               0.719424\n",
      "Living_Country                                       0.000000\n",
      "Race                                                27.338129\n",
      "Working_country                                      1.918465\n",
      "Depression                                           0.000000\n",
      "dtype: float64\n"
     ]
    }
   ],
   "source": [
    "percentage_missing=data.isnull().sum()*100/data.shape[0]\n",
    "print(percentage_missing)"
   ]
  },
  {
   "cell_type": "code",
   "execution_count": 17,
   "metadata": {},
   "outputs": [
    {
     "name": "stdout",
     "output_type": "stream",
     "text": [
      "Number of columns having missing values 42\n"
     ]
    }
   ],
   "source": [
    "missing_cols=[]\n",
    "for column in data.columns:\n",
    "    if percentage_missing[column]>0:\n",
    "        missing_cols.append(column)\n",
    "print(\"Number of columns having missing values\",len(missing_cols))"
   ]
  },
  {
   "cell_type": "code",
   "execution_count": 18,
   "metadata": {},
   "outputs": [
    {
     "data": {
      "text/plain": [
       "[('White', 259),\n",
       " ('More than one of the above', 12),\n",
       " ('I prefer not to answer', 9),\n",
       " ('Asian', 9),\n",
       " ('Black or African American', 5),\n",
       " ('United States of America', 2),\n",
       " ('California', 2),\n",
       " ('Male', 1),\n",
       " ('Texas', 1),\n",
       " ('Ohio', 1),\n",
       " ('Illinois', 1),\n",
       " ('American Indian or Alaska Native', 1)]"
      ]
     },
     "execution_count": 18,
     "metadata": {},
     "output_type": "execute_result"
    }
   ],
   "source": [
    "total_counts={}\n",
    "from collections import Counter\n",
    "from collections import OrderedDict\n",
    "from math import isnan\n",
    "for column in missing_cols:\n",
    "    counts=dict(Counter(data[column]))\n",
    "    counts={k: counts[k] for k in counts if isinstance(k,str) or not isnan(k)}\n",
    "    ordered_counts=sorted(counts.items(),\n",
    "                          key=lambda x: x[1],\n",
    "                          reverse=True)\n",
    "    total_counts[column]=ordered_counts\n",
    "total_counts['Race']"
   ]
  },
  {
   "cell_type": "code",
   "execution_count": 19,
   "metadata": {},
   "outputs": [
    {
     "name": "stdout",
     "output_type": "stream",
     "text": [
      "More than 1000\n",
      "1.0\n",
      "1.0\n",
      "Yes\n",
      "Yes\n",
      "No\n",
      "No\n",
      "I don't know\n",
      "Somewhat easy\n",
      "Physical health\n",
      "Yes\n",
      "0.0\n",
      "Maybe\n",
      "0\n",
      "0\n",
      "5\n",
      "5.0\n",
      "1.0\n",
      "1.0\n",
      "Some did\n",
      "I was aware of some\n",
      "None did\n",
      "None did\n",
      "I don't know\n",
      "Physical health\n",
      "Some of my previous supervisors\n",
      "0\n",
      "At some of my previous employers\n",
      "0\n",
      "0\n",
      "5.0\n",
      "0.0\n",
      "Yes\n",
      "No\n",
      "8\n",
      "5.0\n",
      "No\n",
      "No\n",
      "3.0\n",
      "Male\n",
      "White\n",
      "United States of America\n"
     ]
    }
   ],
   "source": [
    "most_freq_values=dict()\n",
    "for column in missing_cols:\n",
    "    print(total_counts[column][0][0])\n",
    "    most_freq_values[column]=total_counts[column][0][0]"
   ]
  },
  {
   "cell_type": "code",
   "execution_count": 20,
   "metadata": {},
   "outputs": [],
   "source": [
    "for column in missing_cols:\n",
    "    data[column].fillna(most_freq_values[column],inplace=True)"
   ]
  },
  {
   "cell_type": "code",
   "execution_count": 21,
   "metadata": {},
   "outputs": [
    {
     "name": "stdout",
     "output_type": "stream",
     "text": [
      "Self-employed                                       0.0\n",
      "Number_of_employees_in_org                          0.0\n",
      "tech_company                                        0.0\n",
      "primary_role_in_tech                                0.0\n",
      "mental_health_allowance                             0.0\n",
      "options_for_mental_health_care                      0.0\n",
      "formal_discussion_about_mental_health               0.0\n",
      "Resources_to_seek_help                              0.0\n",
      "anonymity_protection                                0.0\n",
      "medical_leave_for_depression                        0.0\n",
      "comfortable_talking_to_coworkers                    0.0\n",
      "comfortable_talking_to_direct_supervisor            0.0\n",
      "discussion_with_employer                            0.0\n",
      "comfort_coworker_mental_health                      0.0\n",
      "discussion_with_coworker                            0.0\n",
      "coworkers_mental_health                             0.0\n",
      "emphasis_on_physical_health                         0.0\n",
      "emphasis_on_mental_health                           0.0\n",
      "previous_employers                                  0.0\n",
      "previous_tech                                       0.0\n",
      "previous_help                                       0.0\n",
      "aware_of_importance                                 0.0\n",
      "previous_employer_discuss                           0.0\n",
      "previous_employer_resource                          0.0\n",
      "anonymity_previous                                  0.0\n",
      "comfortable_mental_health_previous                  0.0\n",
      "comfortable_direct_sup_previous                     0.0\n",
      "discuss_mental_health_previous_emp                  0.0\n",
      "discuss_mental_health_previous_coworkers_comfort    0.0\n",
      "did_discuss                                         0.0\n",
      "other_coworker_discuss                              0.0\n",
      "previous_emp_physical_health                        0.0\n",
      "previous_emp_mental_health                          0.0\n",
      "prev_mental_disorder                                0.0\n",
      "Sought_Treatment                                    0.0\n",
      "family_history_of_mental_health                     0.0\n",
      "if_it_interferes                                    0.0\n",
      "interferes_with_work                                0.0\n",
      "does_other_people_revealing_make_you_reveal_less    0.0\n",
      "are_you_willing_to_share_with_friends               0.0\n",
      "interview_reveal                                    0.0\n",
      "employer_in_interview                               0.0\n",
      "openly_identified                                   0.0\n",
      "support_from_coworker                               0.0\n",
      "badly_handled                                       0.0\n",
      "well_handled                                        0.0\n",
      "tech_industry_support_mental_health                 0.0\n",
      "gender                                              0.0\n",
      "Living_Country                                      0.0\n",
      "Race                                                0.0\n",
      "Working_country                                     0.0\n",
      "Depression                                          0.0\n",
      "dtype: float64\n"
     ]
    }
   ],
   "source": [
    "percentage_missing=data.isnull().sum()*100/data.shape[0]\n",
    "print(percentage_missing)"
   ]
  },
  {
   "cell_type": "code",
   "execution_count": 22,
   "metadata": {},
   "outputs": [],
   "source": [
    "data.to_csv(\"cleaned.csv\")"
   ]
  }
 ],
 "metadata": {
  "kernel_info": {
   "name": "python3"
  },
  "kernelspec": {
   "display_name": "Python 3",
   "language": "python",
   "name": "python3"
  },
  "language_info": {
   "codemirror_mode": {
    "name": "ipython",
    "version": 3
   },
   "file_extension": ".py",
   "mimetype": "text/x-python",
   "name": "python",
   "nbconvert_exporter": "python",
   "pygments_lexer": "ipython3",
   "version": "3.7.4"
  },
  "nteract": {
   "version": "0.15.0"
  }
 },
 "nbformat": 4,
 "nbformat_minor": 2
}
